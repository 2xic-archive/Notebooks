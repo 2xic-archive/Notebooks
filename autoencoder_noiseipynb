{
 "cells": [
  {
   "cell_type": "code",
   "execution_count": null,
   "metadata": {},
   "outputs": [],
   "source": []
  },
  {
   "cell_type": "code",
   "execution_count": 1,
   "metadata": {},
   "outputs": [
    {
     "name": "stderr",
     "output_type": "stream",
     "text": [
      "Using TensorFlow backend.\n"
     ]
    }
   ],
   "source": [
    "import numpy as np\n",
    "from keras.datasets import mnist\n",
    "from keras.layers import Conv2D, Flatten, Activation, Dense, Input\n",
    "from keras.layers import Conv2DTranspose\n",
    "from keras.layers import Reshape\n",
    "import matplotlib.pyplot as plt\n",
    "from keras.models import Model"
   ]
  },
  {
   "cell_type": "code",
   "execution_count": 15,
   "metadata": {},
   "outputs": [],
   "source": [
    "(x_train, y_train), (x_test, y_test) = mnist.load_data()\n",
    "\n",
    "x_train = x_train.astype('float32')\n",
    "x_test = x_test.astype('float32')\n",
    "x_train /= 255\n",
    "x_test /= 255\n",
    "\n",
    "input_shape = (28, 28, 1)\n",
    "\n",
    "x_train = x_train.reshape((x_train.shape[0], ) + input_shape ) \n",
    "x_test = x_test.reshape((x_test.shape[0], ) + input_shape)"
   ]
  },
  {
   "cell_type": "code",
   "execution_count": 16,
   "metadata": {},
   "outputs": [],
   "source": [
    "noise = np.random.normal(loc=0.5, scale=0.5, size=x_train.shape)\n",
    "noise_test = np.random.normal(loc=0.5, scale=0.5, size=x_test.shape)"
   ]
  },
  {
   "cell_type": "code",
   "execution_count": 17,
   "metadata": {},
   "outputs": [],
   "source": [
    "x_train_with_noise = np.clip((x_train + noise), 0., 1.)\n",
    "x_test_with_noise = np.clip((x_test + noise_test), 0., 1.)"
   ]
  },
  {
   "cell_type": "code",
   "execution_count": 18,
   "metadata": {},
   "outputs": [
    {
     "data": {
      "text/plain": [
       "(10000, 28, 28, 1)"
      ]
     },
     "execution_count": 18,
     "metadata": {},
     "output_type": "execute_result"
    }
   ],
   "source": [
    "x_test_with_noise.shape"
   ]
  },
  {
   "cell_type": "code",
   "execution_count": 19,
   "metadata": {},
   "outputs": [],
   "source": [
    "def get_shape(layer):\n",
    "    shape = ()\n",
    "    for i in layer.shape:\n",
    "        shape += (i.value, )\n",
    "    return shape"
   ]
  },
  {
   "cell_type": "code",
   "execution_count": 24,
   "metadata": {},
   "outputs": [],
   "source": [
    "#encoder\n",
    "encoder_inputs = Input(shape=input_shape)\n",
    "x = encoder_inputs\n",
    "x = Conv2D(filters=32,\n",
    "               kernel_size=(3, 3),\n",
    "               activation='relu',\n",
    "               strides = 2,\n",
    "               padding='same')(x)\n",
    "x = Conv2D(filters=64,\n",
    "               kernel_size=(3, 3),\n",
    "               activation='relu',\n",
    "               strides = 2,\n",
    "               padding='same')(x)\n",
    "shape = get_shape(x)\n",
    "x = Flatten()(x)\n",
    "output = Dense(16)(x)\n",
    "encoder = Model(encoder_inputs, output, name='encoder')"
   ]
  },
  {
   "cell_type": "code",
   "execution_count": null,
   "metadata": {},
   "outputs": [],
   "source": []
  },
  {
   "cell_type": "code",
   "execution_count": 25,
   "metadata": {},
   "outputs": [],
   "source": [
    "input_from_encoder = Input(shape=(16,))\n",
    "x = Dense(shape[1] * shape[2] * shape[3])(input_from_encoder)\n",
    "x = Reshape((shape[1], shape[2], shape[3]))(x)\n",
    "\n",
    "x = Conv2DTranspose(filters=64,\n",
    "                        kernel_size=(3, 3),\n",
    "                        activation='relu',\n",
    "                        strides = 2,\n",
    "                        padding='same')(x)\n",
    "x = Conv2DTranspose(filters=32,\n",
    "                        kernel_size=(3, 3),\n",
    "                        activation='relu',\n",
    "                        strides = 2,\n",
    "                        padding='same')(x)\n",
    "x = Conv2DTranspose(filters=1,\n",
    "                    kernel_size=(3, 3),\n",
    "                    padding='same')(x)\n",
    "\n",
    "output_image = Activation('sigmoid')(x)\n",
    "decoder = Model(input_from_encoder, output_image, name='decoder')"
   ]
  },
  {
   "cell_type": "code",
   "execution_count": null,
   "metadata": {},
   "outputs": [],
   "source": []
  },
  {
   "cell_type": "code",
   "execution_count": 26,
   "metadata": {},
   "outputs": [],
   "source": [
    "autoencoder = Model(encoder_inputs, decoder(encoder(encoder_inputs)))"
   ]
  },
  {
   "cell_type": "code",
   "execution_count": null,
   "metadata": {},
   "outputs": [],
   "source": []
  },
  {
   "cell_type": "code",
   "execution_count": 27,
   "metadata": {},
   "outputs": [
    {
     "name": "stdout",
     "output_type": "stream",
     "text": [
      "Epoch 1/10\n",
      "60000/60000 [==============================] - 192s 3ms/step - loss: 0.0739 - acc: 0.8045\n",
      "Epoch 2/10\n",
      "60000/60000 [==============================] - 250s 4ms/step - loss: 0.0481 - acc: 0.7977\n",
      "Epoch 3/10\n",
      "60000/60000 [==============================] - 213s 4ms/step - loss: 0.0335 - acc: 0.8026\n",
      "Epoch 4/10\n",
      "60000/60000 [==============================] - 176s 3ms/step - loss: 0.0290 - acc: 0.8051\n",
      "Epoch 5/10\n",
      "60000/60000 [==============================] - 244s 4ms/step - loss: 0.0265 - acc: 0.8065\n",
      "Epoch 6/10\n",
      "60000/60000 [==============================] - 303s 5ms/step - loss: 0.0248 - acc: 0.8074\n",
      "Epoch 7/10\n",
      "60000/60000 [==============================] - 420s 7ms/step - loss: 0.0236 - acc: 0.8080\n",
      "Epoch 8/10\n",
      "60000/60000 [==============================] - 410s 7ms/step - loss: 0.0227 - acc: 0.8085\n",
      "Epoch 9/10\n",
      "60000/60000 [==============================] - 297s 5ms/step - loss: 0.0221 - acc: 0.8088\n",
      "Epoch 10/10\n",
      "60000/60000 [==============================] - 234s 4ms/step - loss: 0.0215 - acc: 0.8090\n"
     ]
    },
    {
     "data": {
      "text/plain": [
       "<keras.callbacks.History at 0x7f893dbb0978>"
      ]
     },
     "execution_count": 27,
     "metadata": {},
     "output_type": "execute_result"
    }
   ],
   "source": [
    "autoencoder.compile(loss='mse', optimizer='adam', metrics=['accuracy'])\n",
    "autoencoder.fit(x_train_with_noise,\n",
    "                x_train,\n",
    "                epochs=10,\n",
    "                batch_size=256)"
   ]
  },
  {
   "cell_type": "code",
   "execution_count": null,
   "metadata": {},
   "outputs": [],
   "source": []
  },
  {
   "cell_type": "code",
   "execution_count": 28,
   "metadata": {},
   "outputs": [],
   "source": [
    "test_image = x_test_with_noise[0]"
   ]
  },
  {
   "cell_type": "code",
   "execution_count": 29,
   "metadata": {},
   "outputs": [
    {
     "data": {
      "text/plain": [
       "<matplotlib.image.AxesImage at 0x7f893d4cc240>"
      ]
     },
     "execution_count": 29,
     "metadata": {},
     "output_type": "execute_result"
    },
    {
     "data": {
      "image/png": "[encoded data removed]",
      "text/plain": [
       "<matplotlib.figure.Figure at 0x7f893de1ae80>"
      ]
     },
     "metadata": {
      "needs_background": "light"
     },
     "output_type": "display_data"
    }
   ],
   "source": [
    "plt.imshow(test_image[:, :, 0])"
   ]
  },
  {
   "cell_type": "code",
   "execution_count": 30,
   "metadata": {},
   "outputs": [],
   "source": [
    "clean = autoencoder.predict(test_image.reshape(1, 28, 28, 1))"
   ]
  },
  {
   "cell_type": "code",
   "execution_count": 31,
   "metadata": {},
   "outputs": [
    {
     "data": {
      "text/plain": [
       "<matplotlib.image.AxesImage at 0x7f893d401748>"
      ]
     },
     "execution_count": 31,
     "metadata": {},
     "output_type": "execute_result"
    },
    {
     "data": {
      "image/png": "[encoded data removed]",
      "text/plain": [
       "<matplotlib.figure.Figure at 0x7f893d4cccc0>"
      ]
     },
     "metadata": {
      "needs_background": "light"
     },
     "output_type": "display_data"
    }
   ],
   "source": [
    "plt.imshow(clean[0, :, :, 0])"
   ]
  },
  {
   "cell_type": "code",
   "execution_count": 36,
   "metadata": {},
   "outputs": [
    {
     "data": {
      "text/plain": [
       "<matplotlib.image.AxesImage at 0x7f893d385b70>"
      ]
     },
     "execution_count": 36,
     "metadata": {},
     "output_type": "execute_result"
    },
    {
     "data": {
      "image/png": "[encoded data removed]",
      "text/plain": [
       "<matplotlib.figure.Figure at 0x7f893d1bc6d8>"
      ]
     },
     "metadata": {
      "needs_background": "light"
     },
     "output_type": "display_data"
    }
   ],
   "source": [
    "plt.imshow(x_test[0].reshape(28, 28))"
   ]
  },
  {
   "cell_type": "code",
   "execution_count": 38,
   "metadata": {},
   "outputs": [
    {
     "data": {
      "text/plain": [
       "<matplotlib.image.AxesImage at 0x7f893cf53320>"
      ]
     },
     "execution_count": 38,
     "metadata": {},
     "output_type": "execute_result"
    },
    {
     "data": {
      "image/png": "[encoded data removed]",
      "text/plain": [
       "<matplotlib.figure.Figure at 0x7f893d074b70>"
      ]
     },
     "metadata": {
      "needs_background": "light"
     },
     "output_type": "display_data"
    }
   ],
   "source": [
    "figure, axes = plt.subplots(1, 3, figsize=(12, 12))\n",
    "axes[0].set_title(\"input\")\n",
    "axes[0].imshow(test_image[:, :, 0])\n",
    "axes[1].set_title(\"model\")\n",
    "axes[1].imshow(clean[0, :, :, 0])\n",
    "axes[2].set_title(\"truth\")\n",
    "axes[2].imshow(x_test[0].reshape(28, 28))"
   ]
  },
  {
   "cell_type": "code",
   "execution_count": null,
   "metadata": {},
   "outputs": [],
   "source": []
  }
 ],
 "metadata": {
  "kernelspec": {
   "display_name": "Python 3",
   "language": "python",
   "name": "python3"
  },
  "language_info": {
   "codemirror_mode": {
    "name": "ipython",
    "version": 3
   },
   "file_extension": ".py",
   "mimetype": "text/x-python",
   "name": "python",
   "nbconvert_exporter": "python",
   "pygments_lexer": "ipython3",
   "version": "3.5.3"
  }
 },
 "nbformat": 4,
 "nbformat_minor": 2
}
