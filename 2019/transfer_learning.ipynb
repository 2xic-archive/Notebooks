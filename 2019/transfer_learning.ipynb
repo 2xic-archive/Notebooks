{
 "cells": [
  {
   "cell_type": "code",
   "execution_count": 1,
   "metadata": {},
   "outputs": [
    {
     "name": "stderr",
     "output_type": "stream",
     "text": [
      "Using TensorFlow backend.\n"
     ]
    }
   ],
   "source": [
    "from keras.layers import Dense, Conv2D, MaxPooling2D, Dropout, Activation, Flatten"
   ]
  },
  {
   "cell_type": "code",
   "execution_count": 2,
   "metadata": {},
   "outputs": [],
   "source": [
    "from keras.models import Sequential\n",
    "from keras.datasets import mnist"
   ]
  },
  {
   "cell_type": "code",
   "execution_count": 3,
   "metadata": {},
   "outputs": [],
   "source": [
    "input_shape = (1, 28, 28)\n",
    "epochs = 10"
   ]
  },
  {
   "cell_type": "code",
   "execution_count": 4,
   "metadata": {},
   "outputs": [],
   "source": [
    "feature_finder = [\n",
    "    Conv2D(32, (3,3), padding='same', input_shape=input_shape, \n",
    "           activation='relu'),\n",
    "    Conv2D(32, (3, 3), padding='same', activation='relu'),\n",
    "    Flatten()\n",
    "]"
   ]
  },
  {
   "cell_type": "code",
   "execution_count": 5,
   "metadata": {},
   "outputs": [],
   "source": [
    "classifier = [\n",
    "    Dense(128, activation='relu'),\n",
    "    Dropout(0.5),\n",
    "    Dense(10, activation='softmax')\n",
    "]"
   ]
  },
  {
   "cell_type": "code",
   "execution_count": 6,
   "metadata": {},
   "outputs": [
    {
     "name": "stdout",
     "output_type": "stream",
     "text": [
      "WARNING:tensorflow:From /usr/local/lib/python3.5/dist-packages/tensorflow/python/framework/op_def_library.py:263: colocate_with (from tensorflow.python.framework.ops) is deprecated and will be removed in a future version.\n",
      "Instructions for updating:\n",
      "Colocations handled automatically by placer.\n",
      "WARNING:tensorflow:From /usr/local/lib/python3.5/dist-packages/keras/backend/tensorflow_backend.py:3445: calling dropout (from tensorflow.python.ops.nn_ops) with keep_prob is deprecated and will be removed in a future version.\n",
      "Instructions for updating:\n",
      "Please use `rate` instead of `keep_prob`. Rate should be set to `rate = 1 - keep_prob`.\n"
     ]
    }
   ],
   "source": [
    "model = Sequential(feature_finder + classifier)"
   ]
  },
  {
   "cell_type": "code",
   "execution_count": 7,
   "metadata": {},
   "outputs": [],
   "source": [
    "(x_train, y_train), (x_test, y_test) = mnist.load_data()\n",
    "x_train = x_train.astype('float32')\n",
    "x_test = x_test.astype('float32')\n",
    "x_train /= 255\n",
    "x_test /= 255\n",
    "\n",
    "x_train = x_train.reshape((x_train.shape[0],) + input_shape ) \n",
    "x_test = x_test.reshape((x_test.shape[0], ) + input_shape)"
   ]
  },
  {
   "cell_type": "code",
   "execution_count": 8,
   "metadata": {},
   "outputs": [],
   "source": [
    "first_round_x = x_train[y_train <= 4]\n",
    "first_round_y = y_train[y_train <= 4]\n",
    "\n",
    "first_round_x_test = x_test[y_test <= 4]\n",
    "first_round_y_test = y_test[y_test <= 4]"
   ]
  },
  {
   "cell_type": "code",
   "execution_count": 9,
   "metadata": {},
   "outputs": [],
   "source": [
    "model.compile(loss='sparse_categorical_crossentropy',\n",
    "        optimizer='adam',\n",
    "        metrics=['accuracy'])"
   ]
  },
  {
   "cell_type": "code",
   "execution_count": 10,
   "metadata": {},
   "outputs": [
    {
     "name": "stdout",
     "output_type": "stream",
     "text": [
      "WARNING:tensorflow:From /usr/local/lib/python3.5/dist-packages/tensorflow/python/ops/math_ops.py:3066: to_int32 (from tensorflow.python.ops.math_ops) is deprecated and will be removed in a future version.\n",
      "Instructions for updating:\n",
      "Use tf.cast instead.\n",
      "Epoch 1/10\n",
      "30596/30596 [==============================] - 8s 248us/step - loss: 0.4486 - acc: 0.8565\n",
      "Epoch 2/10\n",
      "30596/30596 [==============================] - 7s 226us/step - loss: 0.1047 - acc: 0.9693\n",
      "Epoch 3/10\n",
      "30596/30596 [==============================] - 7s 222us/step - loss: 0.0732 - acc: 0.9781\n",
      "Epoch 4/10\n",
      "30596/30596 [==============================] - 7s 219us/step - loss: 0.0568 - acc: 0.9832\n",
      "Epoch 5/10\n",
      "30596/30596 [==============================] - 7s 215us/step - loss: 0.0464 - acc: 0.9864\n",
      "Epoch 6/10\n",
      "30596/30596 [==============================] - 7s 220us/step - loss: 0.0387 - acc: 0.9885\n",
      "Epoch 7/10\n",
      "30596/30596 [==============================] - 7s 234us/step - loss: 0.0337 - acc: 0.9900\n",
      "Epoch 8/10\n",
      "30596/30596 [==============================] - 8s 247us/step - loss: 0.0306 - acc: 0.9906\n",
      "Epoch 9/10\n",
      "30596/30596 [==============================] - 8s 259us/step - loss: 0.0270 - acc: 0.9921\n",
      "Epoch 10/10\n",
      "30596/30596 [==============================] - 10s 312us/step - loss: 0.0245 - acc: 0.9929\n"
     ]
    }
   ],
   "source": [
    "results = model.fit(first_round_x, first_round_y,\n",
    "              batch_size=256,\n",
    "              epochs=epochs,\n",
    "              verbose=1)"
   ]
  },
  {
   "cell_type": "code",
   "execution_count": 11,
   "metadata": {},
   "outputs": [
    {
     "name": "stdout",
     "output_type": "stream",
     "text": [
      "5139/5139 [==============================] - 1s 206us/step\n"
     ]
    },
    {
     "data": {
      "text/plain": [
       "[0.015391484222130405, 0.9951352403191283]"
      ]
     },
     "execution_count": 11,
     "metadata": {},
     "output_type": "execute_result"
    }
   ],
   "source": [
    "model.evaluate(first_round_x_test, first_round_y_test)"
   ]
  },
  {
   "cell_type": "code",
   "execution_count": null,
   "metadata": {},
   "outputs": [],
   "source": []
  },
  {
   "cell_type": "code",
   "execution_count": 12,
   "metadata": {},
   "outputs": [
    {
     "name": "stdout",
     "output_type": "stream",
     "text": [
      "True\n",
      "False\n",
      "True\n",
      "False\n",
      "True\n",
      "False\n"
     ]
    }
   ],
   "source": [
    "for index, layer in enumerate(model.layers):\n",
    "    if(index < len(feature_finder)):\n",
    "        print(layer.trainable)\n",
    "        layer.trainable = False\n",
    "        print(layer.trainable)"
   ]
  },
  {
   "cell_type": "code",
   "execution_count": null,
   "metadata": {},
   "outputs": [],
   "source": []
  },
  {
   "cell_type": "code",
   "execution_count": 13,
   "metadata": {},
   "outputs": [],
   "source": [
    "second_round_x = x_train[y_train > 4]\n",
    "second_round_y = y_train[y_train > 4]\n",
    "\n",
    "second_round_x_test = x_test[y_test > 4]\n",
    "second_round_y_test = y_test[y_test > 4]"
   ]
  },
  {
   "cell_type": "code",
   "execution_count": 14,
   "metadata": {},
   "outputs": [
    {
     "name": "stdout",
     "output_type": "stream",
     "text": [
      "Epoch 1/10\n",
      "29404/29404 [==============================] - 3s 101us/step - loss: 1.9178 - acc: 0.4492\n",
      "Epoch 2/10\n",
      "29404/29404 [==============================] - 3s 92us/step - loss: 0.4620 - acc: 0.8436\n",
      "Epoch 3/10\n",
      "29404/29404 [==============================] - 3s 92us/step - loss: 0.3216 - acc: 0.8954\n",
      "Epoch 4/10\n",
      "29404/29404 [==============================] - 3s 93us/step - loss: 0.2525 - acc: 0.9208\n",
      "Epoch 5/10\n",
      "29404/29404 [==============================] - 3s 90us/step - loss: 0.2202 - acc: 0.9311\n",
      "Epoch 6/10\n",
      "29404/29404 [==============================] - 3s 91us/step - loss: 0.1951 - acc: 0.9384\n",
      "Epoch 7/10\n",
      "29404/29404 [==============================] - 3s 91us/step - loss: 0.1772 - acc: 0.9454\n",
      "Epoch 8/10\n",
      "29404/29404 [==============================] - 3s 93us/step - loss: 0.1620 - acc: 0.9493\n",
      "Epoch 9/10\n",
      "29404/29404 [==============================] - 3s 91us/step - loss: 0.1472 - acc: 0.9542\n",
      "Epoch 10/10\n",
      "29404/29404 [==============================] - 3s 94us/step - loss: 0.1412 - acc: 0.9556\n"
     ]
    }
   ],
   "source": [
    "model.compile(loss='sparse_categorical_crossentropy',\n",
    "        optimizer='adam',\n",
    "        metrics=['accuracy'])\n",
    "\n",
    "results = model.fit(second_round_x, second_round_y,\n",
    "              batch_size=256,\n",
    "              epochs=epochs,\n",
    "              verbose=1)"
   ]
  },
  {
   "cell_type": "code",
   "execution_count": 15,
   "metadata": {},
   "outputs": [
    {
     "name": "stdout",
     "output_type": "stream",
     "text": [
      "4861/4861 [==============================] - 1s 208us/step\n"
     ]
    },
    {
     "data": {
      "text/plain": [
       "[0.0640242615731146, 0.9794281011033857]"
      ]
     },
     "execution_count": 15,
     "metadata": {},
     "output_type": "execute_result"
    }
   ],
   "source": [
    "model.evaluate(second_round_x_test, second_round_y_test)"
   ]
  },
  {
   "cell_type": "code",
   "execution_count": null,
   "metadata": {},
   "outputs": [],
   "source": []
  }
 ],
 "metadata": {
  "kernelspec": {
   "display_name": "Python 3",
   "language": "python",
   "name": "python3"
  },
  "language_info": {
   "codemirror_mode": {
    "name": "ipython",
    "version": 3
   },
   "file_extension": ".py",
   "mimetype": "text/x-python",
   "name": "python",
   "nbconvert_exporter": "python",
   "pygments_lexer": "ipython3",
   "version": "3.5.3"
  }
 },
 "nbformat": 4,
 "nbformat_minor": 2
}
