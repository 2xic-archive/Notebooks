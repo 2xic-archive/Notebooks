{
 "cells": [
  {
   "cell_type": "markdown",
   "id": "lasting-wiring",
   "metadata": {},
   "source": [
    "# https://arxiv.org/pdf/2002.05709.pdf"
   ]
  },
  {
   "cell_type": "code",
   "execution_count": 4,
   "id": "distinguished-casino",
   "metadata": {},
   "outputs": [],
   "source": [
    "import torch\n",
    "import torchvision\n",
    "import torchvision.transforms as transforms\n",
    "import torch.optim as optim"
   ]
  },
  {
   "cell_type": "code",
   "execution_count": 2,
   "id": "korean-hardware",
   "metadata": {},
   "outputs": [
    {
     "name": "stdout",
     "output_type": "stream",
     "text": [
      "Downloading https://www.cs.toronto.edu/~kriz/cifar-10-python.tar.gz to ./data/cifar-10-python.tar.gz\n"
     ]
    },
    {
     "data": {
      "application/vnd.jupyter.widget-view+json": {
       "model_id": "6bff4611b003455e8d469541829725f9",
       "version_major": 2,
       "version_minor": 0
      },
      "text/plain": [
       "0it [00:00, ?it/s]"
      ]
     },
     "metadata": {},
     "output_type": "display_data"
    },
    {
     "name": "stdout",
     "output_type": "stream",
     "text": [
      "Extracting ./data/cifar-10-python.tar.gz to ./data\n"
     ]
    }
   ],
   "source": [
    "transform = transforms.Compose(\n",
    "    [transforms.ToTensor()]\n",
    ")\n",
    "batch_size = 8\n",
    "trainset = torchvision.datasets.CIFAR10(root='./data', train=True,\n",
    "                                        download=True, transform=transform)\n",
    "trainloader = torch.utils.data.DataLoader(trainset, batch_size=batch_size,\n",
    "                                          shuffle=True, num_workers=2)"
   ]
  },
  {
   "cell_type": "code",
   "execution_count": 5,
   "id": "asian-grave",
   "metadata": {},
   "outputs": [],
   "source": [
    "# basic nn from https://pytorch.org/tutorials/beginner/blitz/cifar10_tutorial.html\n",
    "import torch.nn as nn\n",
    "import torch.nn.functional as F\n",
    "\n",
    "\n",
    "class Net(nn.Module):\n",
    "    def __init__(self):\n",
    "        super().__init__()\n",
    "        self.conv1 = nn.Conv2d(3, 6, 5)\n",
    "        self.pool = nn.MaxPool2d(2, 2)\n",
    "        self.conv2 = nn.Conv2d(6, 16, 5)\n",
    "        self.fc1 = nn.Linear(16 * 5 * 5, 120)\n",
    "        self.fc2 = nn.Linear(120, 84)\n",
    "        self.fc3 = nn.Linear(84, 10)\n",
    "\n",
    "    def forward(self, x):\n",
    "        x = self.pool(F.relu(self.conv1(x)))\n",
    "        x = self.pool(F.relu(self.conv2(x)))\n",
    "        x = torch.flatten(x, 1)\n",
    "        x = F.relu(self.fc1(x))\n",
    "        x = F.relu(self.fc2(x))\n",
    "        x = self.fc3(x)\n",
    "        return x\n",
    "\n",
    "\n",
    "net = Net()\n",
    "criterion = nn.CrossEntropyLoss()\n",
    "optimizer = optim.SGD(net.parameters(), lr=0.001, momentum=0.9)"
   ]
  },
  {
   "cell_type": "code",
   "execution_count": 6,
   "id": "national-proxy",
   "metadata": {},
   "outputs": [
    {
     "name": "stdout",
     "output_type": "stream",
     "text": [
      "[1,  2000] loss: 2.233\n",
      "[1,  4000] loss: 1.992\n",
      "[1,  6000] loss: 1.831\n",
      "[2,  2000] loss: 1.661\n",
      "[2,  4000] loss: 1.575\n",
      "[2,  6000] loss: 1.501\n",
      "[3,  2000] loss: 1.439\n",
      "[3,  4000] loss: 1.394\n",
      "[3,  6000] loss: 1.380\n",
      "[4,  2000] loss: 1.324\n",
      "[4,  4000] loss: 1.313\n",
      "[4,  6000] loss: 1.300\n",
      "[5,  2000] loss: 1.245\n",
      "[5,  4000] loss: 1.247\n",
      "[5,  6000] loss: 1.236\n",
      "[6,  2000] loss: 1.186\n",
      "[6,  4000] loss: 1.190\n",
      "[6,  6000] loss: 1.186\n",
      "[7,  2000] loss: 1.141\n",
      "[7,  4000] loss: 1.142\n",
      "[7,  6000] loss: 1.141\n",
      "[8,  2000] loss: 1.101\n",
      "[8,  4000] loss: 1.092\n",
      "[8,  6000] loss: 1.097\n",
      "[9,  2000] loss: 1.042\n",
      "[9,  4000] loss: 1.065\n",
      "[9,  6000] loss: 1.059\n",
      "[10,  2000] loss: 1.002\n",
      "[10,  4000] loss: 1.023\n",
      "[10,  6000] loss: 1.011\n",
      "Finished Training\n"
     ]
    }
   ],
   "source": [
    "epochs = 10\n",
    "for epoch in range(epochs):\n",
    "    running_loss = 0.0\n",
    "    for i, data in enumerate(trainloader, 0):\n",
    "        inputs, labels = data\n",
    "\n",
    "        optimizer.zero_grad()\n",
    "        outputs = net(inputs)\n",
    "        loss = criterion(outputs, labels)\n",
    "        loss.backward()\n",
    "        optimizer.step()\n",
    "\n",
    "        running_loss += loss.item()\n",
    "        if i % 2000 == 1999:\n",
    "            print(f'[{epoch + 1}, {i + 1:5d}] loss: {running_loss / 2000:.3f}')\n",
    "            running_loss = 0.0\n",
    "print('Finished Training')"
   ]
  },
  {
   "cell_type": "markdown",
   "id": "caroline-individual",
   "metadata": {},
   "source": [
    "### SimClr\n",
    "- Algortim is described on page 3, basically\n",
    "    - Apply two seperate augmentation operations on a image\n",
    "    - Two neural networks are used to process the image\n",
    "        - encoder (f)\n",
    "            - biger network like resnet\n",
    "        - projection head (g)\n",
    "            - smaller network, maps the output of the encoder.\n",
    "    - Loss\n",
    "        - Tries to maximize agreement between the image augmentations (they are the same image after all)\n",
    "        - combined loss\n",
    "    - Visualized nicely with an iamge on page 2 of the paper"
   ]
  },
  {
   "cell_type": "markdown",
   "id": "according-dream",
   "metadata": {},
   "source": [
    "#### Implementation (psuedo) \n",
    "\n",
    "1. Fetch two augmentation functions (a_1, a_2), and image (x)\n",
    "    i = g(f(a_1(x)))\n",
    "    j = g(f(a_2(x)))\n",
    "2. \n",
    "    s i, j = i^t*j(|i||j|) \n",
    "3.\n",
    "    delta = temperature parameter\n",
    "    l(i,j) = - log (exp(si,j)/delta) / (sum over the batch where i != k ) exp(si,k/delta)"
   ]
  },
  {
   "cell_type": "code",
   "execution_count": null,
   "id": "protected-optimum",
   "metadata": {},
   "outputs": [],
   "source": []
  }
 ],
 "metadata": {
  "kernelspec": {
   "display_name": "Python 3",
   "language": "python",
   "name": "python3"
  },
  "language_info": {
   "codemirror_mode": {
    "name": "ipython",
    "version": 3
   },
   "file_extension": ".py",
   "mimetype": "text/x-python",
   "name": "python",
   "nbconvert_exporter": "python",
   "pygments_lexer": "ipython3",
   "version": "3.8.5"
  }
 },
 "nbformat": 4,
 "nbformat_minor": 5
}
