{
 "cells": [
  {
   "cell_type": "markdown",
   "id": "solid-trail",
   "metadata": {},
   "source": [
    "### Kelly criterion"
   ]
  },
  {
   "cell_type": "markdown",
   "id": "smoking-participant",
   "metadata": {},
   "source": [
    "- https://en.wikipedia.org/wiki/Kelly_criterion#Investment_formula"
   ]
  },
  {
   "cell_type": "markdown",
   "id": "viral-insured",
   "metadata": {},
   "source": [
    "$$f^* = \\frac{\\text{p(x)}}{r}-\\frac{1 - p(x)}{r}$$"
   ]
  },
  {
   "cell_type": "markdown",
   "id": "current-injection",
   "metadata": {},
   "source": [
    "- $p(x)$  probability of price increase\n",
    "- $r$  the fraction of lost / gained value "
   ]
  },
  {
   "cell_type": "markdown",
   "id": "tested-constraint",
   "metadata": {},
   "source": [
    "Example, p(x) = 0.9, and r = 0.5"
   ]
  },
  {
   "cell_type": "code",
   "execution_count": 1,
   "id": "binding-voltage",
   "metadata": {},
   "outputs": [
    {
     "data": {
      "text/plain": [
       "1.6"
      ]
     },
     "execution_count": 1,
     "metadata": {},
     "output_type": "execute_result"
    }
   ],
   "source": [
    "(0.9)/0.5 - (0.1)/0.5"
   ]
  },
  {
   "cell_type": "markdown",
   "id": "introductory-maple",
   "metadata": {},
   "source": [
    "The value is greater than one, which is theoretically possible. WIkipedia mentions that we then can use leverage. "
   ]
  },
  {
   "cell_type": "code",
   "execution_count": 4,
   "id": "weird-grant",
   "metadata": {},
   "outputs": [],
   "source": [
    "import scipy\n",
    "import numpy as np"
   ]
  },
  {
   "cell_type": "code",
   "execution_count": 9,
   "id": "bacterial-florence",
   "metadata": {},
   "outputs": [],
   "source": [
    "from scipy.stats import norm"
   ]
  },
  {
   "cell_type": "code",
   "execution_count": 51,
   "id": "sacred-bridal",
   "metadata": {},
   "outputs": [],
   "source": [
    "x = 1050\n",
    "p = norm.pdf(x, loc=1000, scale=100)\n",
    "r = 1-100/x"
   ]
  },
  {
   "cell_type": "code",
   "execution_count": 52,
   "id": "every-ballet",
   "metadata": {},
   "outputs": [
    {
     "data": {
      "text/plain": [
       "0.9047619047619048"
      ]
     },
     "execution_count": 52,
     "metadata": {},
     "output_type": "execute_result"
    }
   ],
   "source": [
    "r"
   ]
  },
  {
   "cell_type": "code",
   "execution_count": 53,
   "id": "unexpected-tolerance",
   "metadata": {},
   "outputs": [
    {
     "name": "stdout",
     "output_type": "stream",
     "text": [
      "-1.0974806611978418\n"
     ]
    }
   ],
   "source": [
    "print(\n",
    "    (p/r)-(1-p)/r\n",
    ")"
   ]
  },
  {
   "cell_type": "code",
   "execution_count": 54,
   "id": "common-kazakhstan",
   "metadata": {},
   "outputs": [
    {
     "name": "stdout",
     "output_type": "stream",
     "text": [
      "0.0035206532676429953\n"
     ]
    }
   ],
   "source": [
    "print(p)"
   ]
  },
  {
   "cell_type": "markdown",
   "id": "driven-separation",
   "metadata": {},
   "source": [
    "https://en.wikipedia.org/wiki/Kelly_criterion#Stock_investments"
   ]
  },
  {
   "cell_type": "code",
   "execution_count": 57,
   "id": "cosmetic-refund",
   "metadata": {},
   "outputs": [
    {
     "name": "stdout",
     "output_type": "stream",
     "text": [
      "0.03968\n"
     ]
    }
   ],
   "source": [
    "mu = 100\n",
    "sigma = 25\n",
    "r = 0.2\n",
    "print((sigma - r) / sigma ** 2)"
   ]
  },
  {
   "cell_type": "code",
   "execution_count": 58,
   "id": "metallic-trial",
   "metadata": {},
   "outputs": [
    {
     "name": "stdout",
     "output_type": "stream",
     "text": [
      "0.038560000000000004\n"
     ]
    }
   ],
   "source": [
    "mu = 100\n",
    "sigma = 25\n",
    "r = 0.9\n",
    "print((sigma - r) / sigma ** 2)"
   ]
  },
  {
   "cell_type": "code",
   "execution_count": null,
   "id": "hollywood-prototype",
   "metadata": {},
   "outputs": [],
   "source": []
  }
 ],
 "metadata": {
  "kernelspec": {
   "display_name": "Python 3",
   "language": "python",
   "name": "python3"
  },
  "language_info": {
   "codemirror_mode": {
    "name": "ipython",
    "version": 3
   },
   "file_extension": ".py",
   "mimetype": "text/x-python",
   "name": "python",
   "nbconvert_exporter": "python",
   "pygments_lexer": "ipython3",
   "version": "3.8.5"
  }
 },
 "nbformat": 4,
 "nbformat_minor": 5
}
