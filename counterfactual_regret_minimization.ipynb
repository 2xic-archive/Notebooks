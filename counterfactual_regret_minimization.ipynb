{
 "cells": [
  {
   "cell_type": "code",
   "execution_count": 1,
   "metadata": {},
   "outputs": [],
   "source": [
    "import numpy as np\n",
    "import matplotlib.pyplot as plt\n",
    "import numpy as np"
   ]
  },
  {
   "cell_type": "code",
   "execution_count": 2,
   "metadata": {},
   "outputs": [],
   "source": [
    "ROCK = 0\n",
    "PAPER = 1\n",
    "SCISSORS = 2\n",
    "NUM_ACTIONS = 3"
   ]
  },
  {
   "cell_type": "code",
   "execution_count": 3,
   "metadata": {},
   "outputs": [],
   "source": [
    "regret_sum = np.zeros(NUM_ACTIONS)\n",
    "strategy = np.zeros(NUM_ACTIONS)\n",
    "strategy_sum = np.zeros(NUM_ACTIONS)\n",
    "opp_strategy = np.array([0.4, 0.3, 0.3])"
   ]
  },
  {
   "cell_type": "code",
   "execution_count": 4,
   "metadata": {},
   "outputs": [],
   "source": [
    "def get_strategy():\n",
    "    normalizing_sum = 0\n",
    "    for action in range(NUM_ACTIONS):\n",
    "        strategy[action] = regret_sum[action] if(regret_sum[action] > 0) else 0\n",
    "        normalizing_sum += strategy[action]\n",
    "    for action in range(NUM_ACTIONS):\n",
    "        if(normalizing_sum > 0):\n",
    "            strategy[action] /= normalizing_sum\n",
    "        else:\n",
    "            strategy[action] = 1 / NUM_ACTIONS\n",
    "        strategy_sum[action] += strategy[action]\n",
    "    return strategy"
   ]
  },
  {
   "cell_type": "code",
   "execution_count": 5,
   "metadata": {},
   "outputs": [],
   "source": [
    "def get_action(strategy):\n",
    "    r = np.random.rand()\n",
    "    a = 0\n",
    "    cumulative_probability = 0\n",
    "    while a < NUM_ACTIONS - 1:\n",
    "        cumulative_probability += strategy[a]\n",
    "        if(r < cumulative_probability):\n",
    "            break\n",
    "        a += 1\n",
    "    return a"
   ]
  },
  {
   "cell_type": "code",
   "execution_count": 6,
   "metadata": {},
   "outputs": [],
   "source": [
    "def train(epochs=1000):\n",
    "    action_utility = np.zeros(NUM_ACTIONS)\n",
    "    win_rate = 0\n",
    "    output = [\n",
    "        [],\n",
    "        [],\n",
    "        []\n",
    "    ]\n",
    "    for i in range(epochs): \n",
    "        # Get regret-matched mixed-strategy actions\n",
    "        strategy = get_strategy()\n",
    "        my_action = get_action(strategy)\n",
    "        other_action = get_action(opp_strategy)\n",
    "    \n",
    "        # Compute action utilities\n",
    "        action_utility[other_action] = 0        \n",
    "        \n",
    "        state = (0 if(other_action == NUM_ACTIONS - 1) else other_action + 1)\n",
    "        \n",
    "        state1 = (NUM_ACTIONS - 1 if(other_action == 0) else other_action - 1)\n",
    "        \n",
    "        action_utility[state] = 1\n",
    "        action_utility[state1] = - 1\n",
    "        \n",
    "        # Accumulate action regrets\n",
    "        for action in range(NUM_ACTIONS):\n",
    "            regret_sum[action] += action_utility[action] - action_utility[my_action]\n",
    "            output[action].append(regret_sum[action])\n",
    "            \n",
    "    plt.plot(output[0])\n",
    "    plt.plot(output[2])\n",
    "    plt.show()"
   ]
  },
  {
   "cell_type": "code",
   "execution_count": 7,
   "metadata": {},
   "outputs": [],
   "source": [
    "def get_average_strategy():\n",
    "    average_strategy = np.zeros(NUM_ACTIONS)\n",
    "    normalizing_sum = 0\n",
    "    for action in range(NUM_ACTIONS):\n",
    "        normalizing_sum += strategy_sum[action]\n",
    "    for action in range(NUM_ACTIONS):\n",
    "        if(normalizing_sum > 0):\n",
    "            average_strategy[action] = strategy_sum[action] / normalizing_sum\n",
    "        else:\n",
    "            average_strategy[action] = 1.0 / NUM_ACTIONS\n",
    "    return average_strategy"
   ]
  },
  {
   "cell_type": "code",
   "execution_count": 8,
   "metadata": {},
   "outputs": [
    {
     "data": {
      "image/png": "[encoded data removed]",
      "text/plain": [
       "<matplotlib.figure.Figure at 0x7f7afd95f828>"
      ]
     },
     "metadata": {
      "needs_background": "light"
     },
     "output_type": "display_data"
    },
    {
     "name": "stdout",
     "output_type": "stream",
     "text": [
      "OK\n"
     ]
    }
   ],
   "source": [
    "train()\n",
    "print(\"OK\")"
   ]
  },
  {
   "cell_type": "code",
   "execution_count": 11,
   "metadata": {},
   "outputs": [
    {
     "data": {
      "image/png": "[encoded data removed]",
      "text/plain": [
       "<matplotlib.figure.Figure at 0x7f7afb5a2da0>"
      ]
     },
     "metadata": {
      "needs_background": "light"
     },
     "output_type": "display_data"
    }
   ],
   "source": [
    "strategy = get_average_strategy()\n",
    "D = {\n",
    "    \"ROCK\":strategy[0],\n",
    "    \"PAPER\":strategy[1],\n",
    "    \"SCISSORS\":strategy[2]\n",
    "}\n",
    "\n",
    "plt.bar(range(len(D)), list(D.values()), align='center')\n",
    "plt.xticks(range(len(D)), list(D.keys()))\n",
    "plt.show()"
   ]
  },
  {
   "cell_type": "code",
   "execution_count": 10,
   "metadata": {},
   "outputs": [],
   "source": [
    "# http://modelai.gettysburg.edu/2013/cfr/cfr.pdf"
   ]
  },
  {
   "cell_type": "code",
   "execution_count": null,
   "metadata": {
    "collapsed": true
   },
   "outputs": [],
   "source": []
  }
 ],
 "metadata": {
  "kernelspec": {
   "display_name": "Python 3",
   "language": "python",
   "name": "python3"
  },
  "language_info": {
   "codemirror_mode": {
    "name": "ipython",
    "version": 3
   },
   "file_extension": ".py",
   "mimetype": "text/x-python",
   "name": "python",
   "nbconvert_exporter": "python",
   "pygments_lexer": "ipython3",
   "version": "3.5.3"
  }
 },
 "nbformat": 4,
 "nbformat_minor": 2
}
