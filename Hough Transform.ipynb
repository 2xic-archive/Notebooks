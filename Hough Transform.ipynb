{
 "cells": [
  {
   "cell_type": "code",
   "execution_count": null,
   "metadata": {},
   "outputs": [],
   "source": []
  },
  {
   "cell_type": "code",
   "execution_count": 66,
   "metadata": {},
   "outputs": [],
   "source": [
    "%matplotlib inline\n",
    "import numpy as np\n",
    "import math\n",
    "import numpy as np\n",
    "import matplotlib.pyplot as plt"
   ]
  },
  {
   "cell_type": "code",
   "execution_count": 67,
   "metadata": {},
   "outputs": [],
   "source": [
    "image = np.zeros((512, 512))\n",
    "\n",
    "for x in range(512):\n",
    "    y = x \n",
    "    for i in range(20):\n",
    "        if((y + i) < 512 and (x + 1) < 512):\n",
    "            image[y, x + i] = 1\n",
    "    "
   ]
  },
  {
   "cell_type": "code",
   "execution_count": 68,
   "metadata": {},
   "outputs": [
    {
     "data": {
      "text/plain": [
       "<matplotlib.image.AxesImage at 0x7f92c94d1470>"
      ]
     },
     "execution_count": 68,
     "metadata": {},
     "output_type": "execute_result"
    },
    {
     "data": {
      "image/png": "[encoded data removed]",
      "text/plain": [
       "<matplotlib.figure.Figure at 0x7f92c9ae70f0>"
      ]
     },
     "metadata": {
      "needs_background": "light"
     },
     "output_type": "display_data"
    }
   ],
   "source": [
    "plt.imshow(image)"
   ]
  },
  {
   "cell_type": "code",
   "execution_count": 73,
   "metadata": {},
   "outputs": [],
   "source": [
    "\n",
    "def hougth(image):\n",
    "    theta = np.deg2rad(np.arange(-90.0, 90.0, 1))\n",
    "    max_length = int(round(math.sqrt(512 ** 2 * 2)))\n",
    "\n",
    "    space = np.zeros((2 * max_length, len(theta)), dtype=np.uint8)\n",
    "\n",
    "    cos_t = np.cos(theta)\n",
    "    sin_t = np.sin(theta)\n",
    "    \n",
    "    edges = image >= 1\n",
    "    y_index, x_index = np.nonzero(edges)\n",
    "    \n",
    "    for i in range(len(x_index)):\n",
    "        x = x_index[i]\n",
    "        y = y_index[i]\n",
    "        \n",
    "        for theta_index in range(len(theta)):\n",
    "            '''\n",
    "            # https://www.uio.no/studier/emner/matnat/ifi/INF4300/h09/undervisningsmateriale/hough09.pdf\n",
    "             Let θj equal all the possible θ-values\n",
    "            • Solve for ρ using ρ=x cos θj +ysin θj\n",
    "            • Round ρ to the closest cell value, ρq\n",
    "            • Increment A(i,q) if the θj results in ρq\n",
    "            '''\n",
    "            p = max_length + int(round(x * cos_t[theta_index] + y * sin_t[theta_index]))\n",
    "            space[p, theta_index] += 1\n",
    "    return space"
   ]
  },
  {
   "cell_type": "code",
   "execution_count": 74,
   "metadata": {},
   "outputs": [
    {
     "data": {
      "text/plain": [
       "<matplotlib.image.AxesImage at 0x7f92c9445940>"
      ]
     },
     "execution_count": 74,
     "metadata": {},
     "output_type": "execute_result"
    },
    {
     "data": {
      "image/png": "[encoded data removed]",
      "text/plain": [
       "<matplotlib.figure.Figure at 0x7f92c9510588>"
      ]
     },
     "metadata": {
      "needs_background": "light"
     },
     "output_type": "display_data"
    }
   ],
   "source": [
    "plt.imshow(hougth(image))"
   ]
  },
  {
   "cell_type": "code",
   "execution_count": null,
   "metadata": {},
   "outputs": [],
   "source": []
  },
  {
   "cell_type": "code",
   "execution_count": null,
   "metadata": {},
   "outputs": [],
   "source": []
  },
  {
   "cell_type": "code",
   "execution_count": null,
   "metadata": {},
   "outputs": [],
   "source": []
  },
  {
   "cell_type": "code",
   "execution_count": null,
   "metadata": {},
   "outputs": [],
   "source": []
  },
  {
   "cell_type": "code",
   "execution_count": null,
   "metadata": {},
   "outputs": [],
   "source": []
  }
 ],
 "metadata": {
  "kernelspec": {
   "display_name": "Python 3",
   "language": "python",
   "name": "python3"
  },
  "language_info": {
   "codemirror_mode": {
    "name": "ipython",
    "version": 3
   },
   "file_extension": ".py",
   "mimetype": "text/x-python",
   "name": "python",
   "nbconvert_exporter": "python",
   "pygments_lexer": "ipython3",
   "version": "3.5.3"
  }
 },
 "nbformat": 4,
 "nbformat_minor": 2
}
